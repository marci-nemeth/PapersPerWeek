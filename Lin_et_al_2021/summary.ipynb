{
 "cells": [
  {
   "attachments": {},
   "cell_type": "markdown",
   "metadata": {},
   "source": [
    "# Testing Stock Trend Predictions based on previous research"
   ]
  },
  {
   "attachments": {},
   "cell_type": "markdown",
   "metadata": {},
   "source": [
    "## Table of Content\n",
    "\n",
    " [1. Introduction](#1-introduction)\n",
    "\n",
    " [2. Research Paper](#2-research-paper)\n",
    "\n",
    " [3. Implementation](#3-implementation)\n",
    "\n",
    " [4. Results](#4-results)\n",
    " \n",
    " [5. Citation](#5-citations)"
   ]
  },
  {
   "attachments": {},
   "cell_type": "markdown",
   "metadata": {},
   "source": [
    "### 1. Introduction"
   ]
  },
  {
   "attachments": {},
   "cell_type": "markdown",
   "metadata": {},
   "source": [
    "In this project I will implement stock trend prediction strategies I found in another research article (Lin et. al. 2021). I will summarize their research and attempt to recreate the trading strategy they used. I will also implement my own ideas to see if my model can perform better than theirs. "
   ]
  },
  {
   "attachments": {},
   "cell_type": "markdown",
   "metadata": {},
   "source": [
    "## 2. Research Paper"
   ]
  },
  {
   "attachments": {},
   "cell_type": "markdown",
   "metadata": {},
   "source": [
    "\n",
    "\n",
    "### Stock Trend Prediction Using Candlestick Charting (Lin et. al. 2021)\n",
    "\n",
    "Lin et. al. 2021 used a model with multi variable input.\n",
    "They stated an accuracy of 60% on their sample data.\n",
    "\n",
    "### Input Variables\n",
    "The categories of input variables are the following:\n",
    "\n",
    "#### Technical Indicators:\n",
    "      - Overlap Indicators:\n",
    "        - Moving Average\n",
    "        - Exponential Moving Average\n",
    "        - Double Exponential Moving Average\n",
    "        - Kaufman's Adaptive Moving Average\n",
    "        - Simple Moving Average\n",
    "        - Parabolic SAR\n",
    "      - Momentum indicators:\n",
    "        - Average Directional Movement Index\n",
    "        - Price Oscillator - Absolute\n",
    "        - Commodity Channel Index\n",
    "        - Moving Average Convergence/Divergence\n",
    "        - Money Flow Index\n",
    "        - Momentum\n",
    "        - Relative Strength Index\n",
    "      - Volume Indicators:\n",
    "        - Chaikin A/D Line (AD)\n",
    "        - Chaikin Oscillator\n",
    "        - On Balance Volume\n",
    "      - Volatility Indicators\n",
    "        - True Range\n",
    "        - Average True Range\n",
    "        - Normalized Average True Range\n",
    "\n",
    "#### 8-trigram scheme:\n",
    "[See Original Paper] (https://www.researchgate.net/publication/353477899_Stock_Trend_Prediction_Using_Candlestick_Charting_and_Ensemble_Machine_Learning_Techniques_With_a_Novelty_Feature_Engineering_Scheme)\n",
    "\n",
    "#### Historical Stock Data:\n",
    "\n",
    "For the original paper, researchers tested their model on 3,455 stocks in the Chinese stock market between 2000 and 2017.\n",
    "\n",
    "For this analysis, we will test the model on a representative sample pooled from NASDAQ, for the periods 2015-2023.\n",
    "\n",
    "### Predictive Models\n",
    "\n",
    "The models used in the paper were the following:\n",
    "\n",
    "- Logistic Regression\n",
    "- Support Vector Machine\n",
    "- K Nearest Neighbors\n",
    "- Random Forest\n",
    "- Gradient Boosting Decision Tree \n",
    "- LSTM \n"
   ]
  },
  {
   "attachments": {},
   "cell_type": "markdown",
   "metadata": {},
   "source": [
    "## 3. Implementation "
   ]
  },
  {
   "attachments": {},
   "cell_type": "markdown",
   "metadata": {},
   "source": [
    "The file structure of the project is the following:\n",
    "```\n",
    "\n",
    "├── data\n",
    "│   ├── stocks\n",
    "│   │   ├── ALL HISTORICAL DATA\n",
    "├── ensemble_models\n",
    "│   ├── gb.sav\n",
    "│   ├── knn.sav\n",
    "│   ├── rf.sav\n",
    "│   ├── svm.sav\n",
    "│   ├── xgb_model.sav\n",
    "├── ensembel_results\n",
    "│   ├── ALL SIMULATION RESULTS\n",
    "├── ensemble.py\n",
    "├── summary.ipynb\n",
    "└── .gitignore\n",
    "\n",
    "```"
   ]
  },
  {
   "cell_type": "code",
   "execution_count": null,
   "metadata": {},
   "outputs": [],
   "source": []
  },
  {
   "attachments": {},
   "cell_type": "markdown",
   "metadata": {},
   "source": [
    "## 4. Results"
   ]
  },
  {
   "attachments": {},
   "cell_type": "markdown",
   "metadata": {},
   "source": [
    "Results from the implemented strategy:"
   ]
  },
  {
   "cell_type": "code",
   "execution_count": 59,
   "metadata": {},
   "outputs": [],
   "source": [
    "import pandas as pd\n",
    "import matplotlib.pyplot as plt\n",
    "import numpy as np\n",
    "def graph_results(fname,sector= None,order=None):\n",
    "    df = pd.read_csv(f\"ensemble_results//{fname}\",index_col=0)\n",
    "    df.drop([\"ticker\"],axis=1,inplace=True)\n",
    "    df.mean().to_frame().T\n",
    "\n",
    "    df = df.round(2)\n",
    "    \n",
    "    accuracies = []\n",
    "    precisions = []\n",
    "    recalls = []\n",
    "    f1s = []\n",
    "    model_names = []\n",
    "    for col in df.columns:\n",
    "        model_names.append(col.split(\"_\")[0])\n",
    "        if col.endswith(\"_acc\"):\n",
    "            accuracies.append(df[col][0])\n",
    "        elif col.endswith(\"_prec\"):\n",
    "            precisions.append(df[col][0])\n",
    "        elif col.endswith(\"_recall\"):\n",
    "            recalls.append(df[col][0])\n",
    "        elif col.endswith(\"_f1\"):\n",
    "            f1s.append(df[col][0])\n",
    "    model_names = set(model_names)\n",
    "    fig,ax = plt.subplots(figsize=(20,12))\n",
    "    X = np.arange(len(model_names))\n",
    "    ax = plt.subplot(order)\n",
    "    acc = plt.bar(X+0, accuracies,color='b',width=0.20,label=\"Accuracy\")\n",
    "    prec = plt.bar(X+0.25, precisions,color='r',width=0.20,label=\"Precision\")\n",
    "    recall = plt.bar(X+0.5, recalls,color='g',width=0.20,label=\"Recall\")\n",
    "    f1_score = plt.bar(X+0.75, f1s,color='y',width=0.20,label=\"F1\")\n",
    "    ax.bar_label(acc, padding=3)\n",
    "    ax.bar_label(prec, padding=3)\n",
    "    ax.bar_label(recall, padding=3)\n",
    "    ax.bar_label(f1_score, padding=3)\n",
    "    plt.axhline(y=0.6,linewidth=1, color='k')\n",
    "    ax.set_xticks(X+0.25, model_names)\n",
    "    ax.set_title(sector)\n",
    "    ax.legend(loc=\"lower right\")\n",
    "    \n",
    "    return ax"
   ]
  },
  {
   "cell_type": "code",
   "execution_count": 60,
   "metadata": {},
   "outputs": [
    {
     "data": {
      "image/png": "[encoded data removed]",
      "text/plain": [
       "<Figure size 2000x1200 with 1 Axes>"
      ]
     },
     "metadata": {},
     "output_type": "display_data"
    }
   ],
   "source": [
    "# df = pd.read_csv(\"ensemble_results//N1000_15-23CL2(OMV)D5_T.csv\", index_col=0)\n",
    "# fig = plt.figure()\n",
    "# ax = fig.add_axes([0,0,1,1])\n",
    "# x = df.mean().keys().tolist()\n",
    "# print(x)\n",
    "# ax.bar( x,df.mean().values)\n",
    "\n",
    "graph_results(\"N1000_15-23CL2(OMV)D5_T.csv\",order=221);"
   ]
  },
  {
   "attachments": {},
   "cell_type": "markdown",
   "metadata": {},
   "source": [
    "## 5. Citations\n",
    "Lin, Yaohu & Lin, Shancun & Yang, Haijun & Wu, Harris. (2021). Stock Trend Prediction Using Candlestick Charting and Ensemble Machine Learning Techniques With a Novelty Feature Engineering Scheme. IEEE Access. 9. 101433-101446. 10.1109/ACCESS.2021.3096825. "
   ]
  },
  {
   "cell_type": "markdown",
   "metadata": {},
   "source": []
  }
 ],
 "metadata": {
  "kernelspec": {
   "display_name": "base",
   "language": "python",
   "name": "python3"
  },
  "language_info": {
   "codemirror_mode": {
    "name": "ipython",
    "version": 3
   },
   "file_extension": ".py",
   "mimetype": "text/x-python",
   "name": "python",
   "nbconvert_exporter": "python",
   "pygments_lexer": "ipython3",
   "version": "3.9.13"
  },
  "orig_nbformat": 4,
  "vscode": {
   "interpreter": {
    "hash": "605e616c404bc2856ab367308b2bb812f81f8f4d1e902ec953b7bc9f683a5d50"
   }
  }
 },
 "nbformat": 4,
 "nbformat_minor": 2
}
